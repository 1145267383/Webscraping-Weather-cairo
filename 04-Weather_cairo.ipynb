{
 "cells": [
  {
   "cell_type": "code",
   "execution_count": 95,
   "id": "9a2db4b4",
   "metadata": {},
   "outputs": [],
   "source": [
    "import time \n",
    "import json as jn\n",
    "import pandas as pd\n",
    "import requests as rt \n",
    "\n",
    "from bs4 import BeautifulSoup as sp"
   ]
  },
  {
   "cell_type": "code",
   "execution_count": 104,
   "id": "a06d5386",
   "metadata": {},
   "outputs": [],
   "source": [
    "lst_data=[]\n",
    "\n",
    "for i in range(10):\n",
    "    web = rt.get(\"http://api.weatherstack.com/current?access_key=cce43aa3a3de500cc32c5df0e67c9408&query=Cairo\")\n",
    "    soup = sp(web.text)\n",
    "    find = soup.find_all(\"p\")\n",
    "    jon_data=jn.loads(find[0].get_text())\n",
    "    #############################################\n",
    "    ate=jon_data[\"location\"][\"localtime\"] #date\n",
    "    weather=jon_data[\"current\"][\"weather_descriptions\"][0] #weather.\n",
    "    humidity=jon_data[\"current\"][\"humidity\"]  # humidity.\n",
    "    visibility=jon_data[\"current\"][\"visibility\"]  # visibility.\n",
    "    pressure=jon_data[\"current\"][\"pressure\"]  # pressure.\n",
    "    wind_speed=jon_data[\"current\"][\"wind_speed\"] # wind speed. \n",
    "    lst_data.append((date,weather,humidity,visibility,pressure,wind_speed))\n",
    "    time.sleep(100)\n",
    "    \n",
    "    "
   ]
  },
  {
   "cell_type": "code",
   "execution_count": 105,
   "id": "44dac701",
   "metadata": {},
   "outputs": [
    {
     "data": {
      "text/plain": [
       "[('2022-02-12 19:03', 'Clear', 55, 10, 1023, 22),\n",
       " ('2022-02-12 19:03', 'Clear', 55, 10, 1023, 22),\n",
       " ('2022-02-12 19:03', 'Clear', 55, 10, 1023, 22),\n",
       " ('2022-02-12 19:03', 'Clear', 55, 10, 1023, 22),\n",
       " ('2022-02-12 19:03', 'Clear', 55, 10, 1023, 22),\n",
       " ('2022-02-12 19:03', 'Clear', 55, 10, 1023, 22),\n",
       " ('2022-02-12 19:03', 'Clear', 55, 10, 1023, 22),\n",
       " ('2022-02-12 19:03', 'Clear', 55, 10, 1023, 22),\n",
       " ('2022-02-12 19:03', 'Clear', 55, 10, 1023, 22),\n",
       " ('2022-02-12 19:03', 'Clear', 55, 10, 1023, 22)]"
      ]
     },
     "execution_count": 105,
     "metadata": {},
     "output_type": "execute_result"
    }
   ],
   "source": [
    "lst_data"
   ]
  },
  {
   "cell_type": "code",
   "execution_count": 117,
   "id": "5a35898f",
   "metadata": {},
   "outputs": [],
   "source": [
    "l_data=list(zip(lst_data[0],lst_data[1],lst_data[2],lst_data[3],lst_data[4],lst_data[5],lst_data[6],lst_data[7],lst_data[8],lst_data[9]))"
   ]
  },
  {
   "cell_type": "code",
   "execution_count": 118,
   "id": "7187e2b3",
   "metadata": {},
   "outputs": [],
   "source": [
    "df = pd.DataFrame({'Date':l_data[0],\"Weather\":l_data[1]\n",
    "                    ,\"Humidity\":l_data[2]\n",
    "                    ,\"Visibility\":l_data[3]\n",
    "                    ,\"Pressure\":l_data[4]\n",
    "                    ,\"Wind_Speed\":l_data[5]})"
   ]
  },
  {
   "cell_type": "code",
   "execution_count": 119,
   "id": "69bc6244",
   "metadata": {},
   "outputs": [
    {
     "data": {
      "text/html": [
       "<div>\n",
       "<style scoped>\n",
       "    .dataframe tbody tr th:only-of-type {\n",
       "        vertical-align: middle;\n",
       "    }\n",
       "\n",
       "    .dataframe tbody tr th {\n",
       "        vertical-align: top;\n",
       "    }\n",
       "\n",
       "    .dataframe thead th {\n",
       "        text-align: right;\n",
       "    }\n",
       "</style>\n",
       "<table border=\"1\" class=\"dataframe\">\n",
       "  <thead>\n",
       "    <tr style=\"text-align: right;\">\n",
       "      <th></th>\n",
       "      <th>Date</th>\n",
       "      <th>Weather</th>\n",
       "      <th>Humidity</th>\n",
       "      <th>Visibility</th>\n",
       "      <th>Pressure</th>\n",
       "      <th>Wind_Speed</th>\n",
       "    </tr>\n",
       "  </thead>\n",
       "  <tbody>\n",
       "    <tr>\n",
       "      <th>0</th>\n",
       "      <td>2022-02-12 19:03</td>\n",
       "      <td>Clear</td>\n",
       "      <td>55</td>\n",
       "      <td>10</td>\n",
       "      <td>1023</td>\n",
       "      <td>22</td>\n",
       "    </tr>\n",
       "    <tr>\n",
       "      <th>1</th>\n",
       "      <td>2022-02-12 19:03</td>\n",
       "      <td>Clear</td>\n",
       "      <td>55</td>\n",
       "      <td>10</td>\n",
       "      <td>1023</td>\n",
       "      <td>22</td>\n",
       "    </tr>\n",
       "    <tr>\n",
       "      <th>2</th>\n",
       "      <td>2022-02-12 19:03</td>\n",
       "      <td>Clear</td>\n",
       "      <td>55</td>\n",
       "      <td>10</td>\n",
       "      <td>1023</td>\n",
       "      <td>22</td>\n",
       "    </tr>\n",
       "    <tr>\n",
       "      <th>3</th>\n",
       "      <td>2022-02-12 19:03</td>\n",
       "      <td>Clear</td>\n",
       "      <td>55</td>\n",
       "      <td>10</td>\n",
       "      <td>1023</td>\n",
       "      <td>22</td>\n",
       "    </tr>\n",
       "    <tr>\n",
       "      <th>4</th>\n",
       "      <td>2022-02-12 19:03</td>\n",
       "      <td>Clear</td>\n",
       "      <td>55</td>\n",
       "      <td>10</td>\n",
       "      <td>1023</td>\n",
       "      <td>22</td>\n",
       "    </tr>\n",
       "    <tr>\n",
       "      <th>5</th>\n",
       "      <td>2022-02-12 19:03</td>\n",
       "      <td>Clear</td>\n",
       "      <td>55</td>\n",
       "      <td>10</td>\n",
       "      <td>1023</td>\n",
       "      <td>22</td>\n",
       "    </tr>\n",
       "    <tr>\n",
       "      <th>6</th>\n",
       "      <td>2022-02-12 19:03</td>\n",
       "      <td>Clear</td>\n",
       "      <td>55</td>\n",
       "      <td>10</td>\n",
       "      <td>1023</td>\n",
       "      <td>22</td>\n",
       "    </tr>\n",
       "    <tr>\n",
       "      <th>7</th>\n",
       "      <td>2022-02-12 19:03</td>\n",
       "      <td>Clear</td>\n",
       "      <td>55</td>\n",
       "      <td>10</td>\n",
       "      <td>1023</td>\n",
       "      <td>22</td>\n",
       "    </tr>\n",
       "    <tr>\n",
       "      <th>8</th>\n",
       "      <td>2022-02-12 19:03</td>\n",
       "      <td>Clear</td>\n",
       "      <td>55</td>\n",
       "      <td>10</td>\n",
       "      <td>1023</td>\n",
       "      <td>22</td>\n",
       "    </tr>\n",
       "    <tr>\n",
       "      <th>9</th>\n",
       "      <td>2022-02-12 19:03</td>\n",
       "      <td>Clear</td>\n",
       "      <td>55</td>\n",
       "      <td>10</td>\n",
       "      <td>1023</td>\n",
       "      <td>22</td>\n",
       "    </tr>\n",
       "  </tbody>\n",
       "</table>\n",
       "</div>"
      ],
      "text/plain": [
       "               Date Weather  Humidity  Visibility  Pressure  Wind_Speed\n",
       "0  2022-02-12 19:03   Clear        55          10      1023          22\n",
       "1  2022-02-12 19:03   Clear        55          10      1023          22\n",
       "2  2022-02-12 19:03   Clear        55          10      1023          22\n",
       "3  2022-02-12 19:03   Clear        55          10      1023          22\n",
       "4  2022-02-12 19:03   Clear        55          10      1023          22\n",
       "5  2022-02-12 19:03   Clear        55          10      1023          22\n",
       "6  2022-02-12 19:03   Clear        55          10      1023          22\n",
       "7  2022-02-12 19:03   Clear        55          10      1023          22\n",
       "8  2022-02-12 19:03   Clear        55          10      1023          22\n",
       "9  2022-02-12 19:03   Clear        55          10      1023          22"
      ]
     },
     "execution_count": 119,
     "metadata": {},
     "output_type": "execute_result"
    }
   ],
   "source": [
    "df"
   ]
  },
  {
   "cell_type": "code",
   "execution_count": 120,
   "id": "fb582096",
   "metadata": {},
   "outputs": [],
   "source": [
    "df.to_csv('Weather_Cairo.csv',index=False)"
   ]
  }
 ],
 "metadata": {
  "kernelspec": {
   "display_name": "Python 3",
   "language": "python",
   "name": "python3"
  },
  "language_info": {
   "codemirror_mode": {
    "name": "ipython",
    "version": 3
   },
   "file_extension": ".py",
   "mimetype": "text/x-python",
   "name": "python",
   "nbconvert_exporter": "python",
   "pygments_lexer": "ipython3",
   "version": "3.8.8"
  }
 },
 "nbformat": 4,
 "nbformat_minor": 5
}
